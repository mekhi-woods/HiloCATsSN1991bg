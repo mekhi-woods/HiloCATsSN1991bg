{
  "nbformat": 4,
  "nbformat_minor": 0,
  "metadata": {
    "colab": {
      "provenance": [],
      "authorship_tag": "ABX9TyPjw2dXkueaEaGXvpNhldyI"
    },
    "kernelspec": {
      "name": "python3",
      "display_name": "Python 3"
    },
    "language_info": {
      "name": "python"
    }
  },
  "cells": [
    {
      "cell_type": "code",
      "execution_count": null,
      "metadata": {
        "id": "3ExsdUj9XTCi"
      },
      "outputs": [],
      "source": [
        "import matplotlib.pyplot as plt\n",
        "import numpy as np\n",
        "\n",
        "FILTER_WHEEL = ['u', 'g', 'r', 'i', 'B', 'V0']\n",
        "\n",
        "if __name__ == '__main__':\n",
        "    KrisciunasPath = \"targetLists\\91bglike_justnames.txt\"\n",
        "    KrisciunasNames = np.genfromtxt(KrisciunasPath, dtype=str, delimiter=', ')\n",
        "\n",
        "    allCPSPhot = \"data\\CSPdata\\SN_photo.dat\"\n",
        "    allCPSPhotData = np.genfromtxt(allCPSPhot, dtype='str')\n",
        "\n",
        "    names = allCPSPhotData[:,0]\n",
        "    filters = allCPSPhotData[:,1]\n",
        "    time = allCPSPhotData[:,2]\n",
        "    light = allCPSPhotData[:,3]\n",
        "    err = allCPSPhotData[:,4]\n",
        "\n",
        "    # sigma = 1\n",
        "    # for tar in KrisciunasNames:\n",
        "    #     for n in range(len(FILTER_WHEEL)):\n",
        "    #         # output_names = names[(names == tar) & (filters == FILTER_WHEEL[n])]\n",
        "    #         output_light = light[(names == tar) & (filters == FILTER_WHEEL[n])].astype('float64')\n",
        "    #         output_time = time[(names == tar) & (filters == FILTER_WHEEL[n])].astype('float64') + 53000\n",
        "    #         output_err = err[(names == tar) & (filters == FILTER_WHEEL[n])].astype('float64')\n",
        "    #         plt.errorbar(output_time, output_light, yerr=output_err*sigma, fmt='o', label=FILTER_WHEEL[n])\n",
        "    #\n",
        "    #     plt.title(tar); plt.xlabel('Time [MJD]'); plt.ylabel('Intensity [mag]')\n",
        "    #     plt.gca().invert_yaxis()\n",
        "    #     plt.legend()\n",
        "    #     # plt.savefig('save\\\\'+str(tar)+'.png')\n",
        "    #     plt.show()\n",
        "    #     break\n",
        "\n",
        "    # Alternative Format\n",
        "    sigma = 1\n",
        "    for tar in KrisciunasNames:\n",
        "        for n in range(len(FILTER_WHEEL)):\n",
        "            # output_names = names[(names == tar) & (filters == FILTER_WHEEL[n])]\n",
        "            output_light = light[(names == tar) & (filters == FILTER_WHEEL[n])].astype('float64')\n",
        "            output_time = time[(names == tar) & (filters == FILTER_WHEEL[n])].astype('float64')\n",
        "            output_time_mod = output_time - np.min(output_time)\n",
        "            output_err = err[(names == tar) & (filters == FILTER_WHEEL[n])].astype('float64')\n",
        "            plt.errorbar(output_time_mod, output_light, yerr=output_err * sigma, fmt='o', label=FILTER_WHEEL[n])\n",
        "\n",
        "        plt.title(tar);\n",
        "        plt.xlabel('MJD - '+str(np.min(output_time+53000)));\n",
        "        plt.ylabel('Intensity [mag]')\n",
        "        plt.gca().invert_yaxis()\n",
        "        plt.legend()\n",
        "        # plt.savefig('save\\\\'+str(tar)+'.png')\n",
        "        plt.show()\n",
        "        break"
      ]
    }
  ]
}