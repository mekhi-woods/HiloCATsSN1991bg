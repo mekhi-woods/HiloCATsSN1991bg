{
  "nbformat": 4,
  "nbformat_minor": 0,
  "metadata": {
    "colab": {
      "provenance": [],
      "authorship_tag": "ABX9TyNJF9G032G+ZZ48iAObHhMI",
      "include_colab_link": true
    },
    "kernelspec": {
      "name": "python3",
      "display_name": "Python 3"
    },
    "language_info": {
      "name": "python"
    }
  },
  "cells": [
    {
      "cell_type": "markdown",
      "metadata": {
        "id": "view-in-github",
        "colab_type": "text"
      },
      "source": [
        "<a href=\"https://colab.research.google.com/github/mekhi-woods/HiloCATsSN1991bg/blob/master/main.ipynb\" target=\"_parent\"><img src=\"https://colab.research.google.com/assets/colab-badge.svg\" alt=\"Open In Colab\"/></a>"
      ]
    },
    {
      "cell_type": "code",
      "source": [
        "!pip install snpy"
      ],
      "metadata": {
        "id": "gTAo57hVjmTa",
        "outputId": "c6416640-61f2-4019-908e-e0e8b8580744",
        "colab": {
          "base_uri": "https://localhost:8080/"
        }
      },
      "execution_count": 1,
      "outputs": [
        {
          "output_type": "stream",
          "name": "stdout",
          "text": [
            "Collecting snpy\n",
            "  Downloading snpy-2.5.3.tar.gz (35.8 MB)\n",
            "\u001b[2K     \u001b[90m━━━━━━━━━━━━━━━━━━━━━━━━━━━━━━━━━━━━━━━━\u001b[0m \u001b[32m35.8/35.8 MB\u001b[0m \u001b[31m13.8 MB/s\u001b[0m eta \u001b[36m0:00:00\u001b[0m\n",
            "\u001b[?25h  Preparing metadata (setup.py) ... \u001b[?25l\u001b[?25hdone\n",
            "Requirement already satisfied: numpy in /usr/local/lib/python3.10/dist-packages (from snpy) (1.25.2)\n",
            "Requirement already satisfied: scipy in /usr/local/lib/python3.10/dist-packages (from snpy) (1.11.4)\n",
            "Collecting pymysql (from snpy)\n",
            "  Downloading PyMySQL-1.1.1-py3-none-any.whl (44 kB)\n",
            "\u001b[2K     \u001b[90m━━━━━━━━━━━━━━━━━━━━━━━━━━━━━━━━━━━━━━━━\u001b[0m \u001b[32m45.0/45.0 kB\u001b[0m \u001b[31m2.3 MB/s\u001b[0m eta \u001b[36m0:00:00\u001b[0m\n",
            "\u001b[?25hRequirement already satisfied: matplotlib in /usr/local/lib/python3.10/dist-packages (from snpy) (3.7.1)\n",
            "Requirement already satisfied: ipython in /usr/local/lib/python3.10/dist-packages (from snpy) (7.34.0)\n",
            "Collecting emcee (from snpy)\n",
            "  Downloading emcee-3.1.6-py2.py3-none-any.whl (47 kB)\n",
            "\u001b[2K     \u001b[90m━━━━━━━━━━━━━━━━━━━━━━━━━━━━━━━━━━━━━━━━\u001b[0m \u001b[32m47.4/47.4 kB\u001b[0m \u001b[31m2.3 MB/s\u001b[0m eta \u001b[36m0:00:00\u001b[0m\n",
            "\u001b[?25hRequirement already satisfied: scikit-learn in /usr/local/lib/python3.10/dist-packages (from snpy) (1.2.2)\n",
            "Requirement already satisfied: astropy in /usr/local/lib/python3.10/dist-packages (from snpy) (5.3.4)\n",
            "Requirement already satisfied: pyerfa>=2.0 in /usr/local/lib/python3.10/dist-packages (from astropy->snpy) (2.0.1.4)\n",
            "Requirement already satisfied: PyYAML>=3.13 in /usr/local/lib/python3.10/dist-packages (from astropy->snpy) (6.0.1)\n",
            "Requirement already satisfied: packaging>=19.0 in /usr/local/lib/python3.10/dist-packages (from astropy->snpy) (24.0)\n",
            "Requirement already satisfied: setuptools>=18.5 in /usr/local/lib/python3.10/dist-packages (from ipython->snpy) (67.7.2)\n",
            "Collecting jedi>=0.16 (from ipython->snpy)\n",
            "  Downloading jedi-0.19.1-py2.py3-none-any.whl (1.6 MB)\n",
            "\u001b[2K     \u001b[90m━━━━━━━━━━━━━━━━━━━━━━━━━━━━━━━━━━━━━━━━\u001b[0m \u001b[32m1.6/1.6 MB\u001b[0m \u001b[31m51.1 MB/s\u001b[0m eta \u001b[36m0:00:00\u001b[0m\n",
            "\u001b[?25hRequirement already satisfied: decorator in /usr/local/lib/python3.10/dist-packages (from ipython->snpy) (4.4.2)\n",
            "Requirement already satisfied: pickleshare in /usr/local/lib/python3.10/dist-packages (from ipython->snpy) (0.7.5)\n",
            "Requirement already satisfied: traitlets>=4.2 in /usr/local/lib/python3.10/dist-packages (from ipython->snpy) (5.7.1)\n",
            "Requirement already satisfied: prompt-toolkit!=3.0.0,!=3.0.1,<3.1.0,>=2.0.0 in /usr/local/lib/python3.10/dist-packages (from ipython->snpy) (3.0.43)\n",
            "Requirement already satisfied: pygments in /usr/local/lib/python3.10/dist-packages (from ipython->snpy) (2.16.1)\n",
            "Requirement already satisfied: backcall in /usr/local/lib/python3.10/dist-packages (from ipython->snpy) (0.2.0)\n",
            "Requirement already satisfied: matplotlib-inline in /usr/local/lib/python3.10/dist-packages (from ipython->snpy) (0.1.7)\n",
            "Requirement already satisfied: pexpect>4.3 in /usr/local/lib/python3.10/dist-packages (from ipython->snpy) (4.9.0)\n",
            "Requirement already satisfied: contourpy>=1.0.1 in /usr/local/lib/python3.10/dist-packages (from matplotlib->snpy) (1.2.1)\n",
            "Requirement already satisfied: cycler>=0.10 in /usr/local/lib/python3.10/dist-packages (from matplotlib->snpy) (0.12.1)\n",
            "Requirement already satisfied: fonttools>=4.22.0 in /usr/local/lib/python3.10/dist-packages (from matplotlib->snpy) (4.51.0)\n",
            "Requirement already satisfied: kiwisolver>=1.0.1 in /usr/local/lib/python3.10/dist-packages (from matplotlib->snpy) (1.4.5)\n",
            "Requirement already satisfied: pillow>=6.2.0 in /usr/local/lib/python3.10/dist-packages (from matplotlib->snpy) (9.4.0)\n",
            "Requirement already satisfied: pyparsing>=2.3.1 in /usr/local/lib/python3.10/dist-packages (from matplotlib->snpy) (3.1.2)\n",
            "Requirement already satisfied: python-dateutil>=2.7 in /usr/local/lib/python3.10/dist-packages (from matplotlib->snpy) (2.8.2)\n",
            "Requirement already satisfied: joblib>=1.1.1 in /usr/local/lib/python3.10/dist-packages (from scikit-learn->snpy) (1.4.2)\n",
            "Requirement already satisfied: threadpoolctl>=2.0.0 in /usr/local/lib/python3.10/dist-packages (from scikit-learn->snpy) (3.5.0)\n",
            "Requirement already satisfied: parso<0.9.0,>=0.8.3 in /usr/local/lib/python3.10/dist-packages (from jedi>=0.16->ipython->snpy) (0.8.4)\n",
            "Requirement already satisfied: ptyprocess>=0.5 in /usr/local/lib/python3.10/dist-packages (from pexpect>4.3->ipython->snpy) (0.7.0)\n",
            "Requirement already satisfied: wcwidth in /usr/local/lib/python3.10/dist-packages (from prompt-toolkit!=3.0.0,!=3.0.1,<3.1.0,>=2.0.0->ipython->snpy) (0.2.13)\n",
            "Requirement already satisfied: six>=1.5 in /usr/local/lib/python3.10/dist-packages (from python-dateutil>=2.7->matplotlib->snpy) (1.16.0)\n",
            "Building wheels for collected packages: snpy\n",
            "  Building wheel for snpy (setup.py) ... \u001b[?25l\u001b[?25hdone\n",
            "  Created wheel for snpy: filename=snpy-2.5.3-cp310-cp310-linux_x86_64.whl size=36085673 sha256=80f67d2ab4611132252c0f0967279285ceda2362a2a1a4d404682f1f4d96e5e7\n",
            "  Stored in directory: /root/.cache/pip/wheels/9d/76/58/9ba0dabb8a509b419704f04867bed00eb3eadc3bb8f1f8db39\n",
            "Successfully built snpy\n",
            "Installing collected packages: pymysql, jedi, emcee, snpy\n",
            "Successfully installed emcee-3.1.6 jedi-0.19.1 pymysql-1.1.1 snpy-2.5.3\n"
          ]
        }
      ]
    },
    {
      "cell_type": "code",
      "source": [
        "!git clone https://github.com/mekhi-woods/HiloCATsSN1991bg.git"
      ],
      "metadata": {
        "id": "9OZJ4xA-jr5Z",
        "outputId": "49952f8c-11d0-4079-b47a-0482513f87ad",
        "colab": {
          "base_uri": "https://localhost:8080/"
        }
      },
      "execution_count": 5,
      "outputs": [
        {
          "output_type": "stream",
          "name": "stdout",
          "text": [
            "Cloning into 'HiloCATsSN1991bg'...\n",
            "remote: Enumerating objects: 220, done.\u001b[K\n",
            "remote: Counting objects: 100% (220/220), done.\u001b[K\n",
            "remote: Compressing objects: 100% (207/207), done.\u001b[K\n",
            "remote: Total 220 (delta 20), reused 203 (delta 10), pack-reused 0\u001b[K\n",
            "Receiving objects: 100% (220/220), 922.59 KiB | 12.81 MiB/s, done.\n",
            "Resolving deltas: 100% (20/20), done.\n"
          ]
        }
      ]
    },
    {
      "cell_type": "code",
      "execution_count": null,
      "metadata": {
        "id": "3ExsdUj9XTCi"
      },
      "outputs": [],
      "source": [
        "import matplotlib.pyplot as plt\n",
        "import numpy as np\n",
        "\n",
        "FILTER_WHEEL = ['u', 'g', 'r', 'i', 'B', 'V0']\n",
        "\n",
        "if __name__ == '__main__':\n",
        "    KrisciunasPath = \"targetLists\\91bglike_justnames.txt\"\n",
        "    KrisciunasNames = np.genfromtxt(KrisciunasPath, dtype=str, delimiter=', ')\n",
        "\n",
        "    allCPSPhot = \"data\\CSPdata\\SN_photo.dat\"\n",
        "    allCPSPhotData = np.genfromtxt(allCPSPhot, dtype='str')\n",
        "\n",
        "    names = allCPSPhotData[:,0]\n",
        "    filters = allCPSPhotData[:,1]\n",
        "    time = allCPSPhotData[:,2]\n",
        "    light = allCPSPhotData[:,3]\n",
        "    err = allCPSPhotData[:,4]\n",
        "\n",
        "    # sigma = 1\n",
        "    # for tar in KrisciunasNames:\n",
        "    #     for n in range(len(FILTER_WHEEL)):\n",
        "    #         # output_names = names[(names == tar) & (filters == FILTER_WHEEL[n])]\n",
        "    #         output_light = light[(names == tar) & (filters == FILTER_WHEEL[n])].astype('float64')\n",
        "    #         output_time = time[(names == tar) & (filters == FILTER_WHEEL[n])].astype('float64') + 53000\n",
        "    #         output_err = err[(names == tar) & (filters == FILTER_WHEEL[n])].astype('float64')\n",
        "    #         plt.errorbar(output_time, output_light, yerr=output_err*sigma, fmt='o', label=FILTER_WHEEL[n])\n",
        "    #\n",
        "    #     plt.title(tar); plt.xlabel('Time [MJD]'); plt.ylabel('Intensity [mag]')\n",
        "    #     plt.gca().invert_yaxis()\n",
        "    #     plt.legend()\n",
        "    #     # plt.savefig('save\\\\'+str(tar)+'.png')\n",
        "    #     plt.show()\n",
        "    #     break\n",
        "\n",
        "    # Alternative Format\n",
        "    sigma = 1\n",
        "    for tar in KrisciunasNames:\n",
        "        for n in range(len(FILTER_WHEEL)):\n",
        "            # output_names = names[(names == tar) & (filters == FILTER_WHEEL[n])]\n",
        "            output_light = light[(names == tar) & (filters == FILTER_WHEEL[n])].astype('float64')\n",
        "            output_time = time[(names == tar) & (filters == FILTER_WHEEL[n])].astype('float64')\n",
        "            output_time_mod = output_time - np.min(output_time)\n",
        "            output_err = err[(names == tar) & (filters == FILTER_WHEEL[n])].astype('float64')\n",
        "            plt.errorbar(output_time_mod, output_light, yerr=output_err * sigma, fmt='o', label=FILTER_WHEEL[n])\n",
        "\n",
        "        plt.title(tar);\n",
        "        plt.xlabel('MJD - '+str(np.min(output_time+53000)));\n",
        "        plt.ylabel('Intensity [mag]')\n",
        "        plt.gca().invert_yaxis()\n",
        "        plt.legend()\n",
        "        # plt.savefig('save\\\\'+str(tar)+'.png')\n",
        "        plt.show()\n",
        "        break"
      ]
    }
  ]
}